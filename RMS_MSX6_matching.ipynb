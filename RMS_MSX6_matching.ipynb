{
 "cells": [
  {
   "cell_type": "code",
   "execution_count": 1,
   "metadata": {},
   "outputs": [],
   "source": [
    "import numpy as np\n",
    "import matplotlib.pyplot as plt\n",
    "%matplotlib inline\n",
    "import scikitplot as skplt\n",
    "import pandas as pd  "
   ]
  },
  {
   "cell_type": "code",
   "execution_count": 2,
   "metadata": {},
   "outputs": [],
   "source": [
    "dfr=pd.read_csv(\"DATA/rms__T4OK1.csv\")"
   ]
  },
  {
   "cell_type": "code",
   "execution_count": 5,
   "metadata": {},
   "outputs": [],
   "source": [
    "df6 = pd.read_csv('DATA/MSX6C.csv',sep=\";\", skiprows=range(0,88),names = [\"Name\",\"RAJ20(deg)\",\"DEJ20(deg)\",\n",
    "                                                  \"F4_B1(Jy)\",\"qF4_B1\",\"eF4_B1(%)\",\"F8\",\"qF8\",\"eF8(%)\",\n",
    "                                                                                    \"F12\",\"qF12\",\"eF12(%)\",\n",
    "                                                                                     \"F14\",\"qF14\",\"eF14(%)\",\n",
    "                                                                                    \"F21\",\"qF21\",\"eF21(%)\"])"
   ]
  },
  {
   "cell_type": "code",
   "execution_count": 7,
   "metadata": {},
   "outputs": [
    {
     "data": {
      "text/html": [
       "<div>\n",
       "<style scoped>\n",
       "    .dataframe tbody tr th:only-of-type {\n",
       "        vertical-align: middle;\n",
       "    }\n",
       "\n",
       "    .dataframe tbody tr th {\n",
       "        vertical-align: top;\n",
       "    }\n",
       "\n",
       "    .dataframe thead th {\n",
       "        text-align: right;\n",
       "    }\n",
       "</style>\n",
       "<table border=\"1\" class=\"dataframe\">\n",
       "  <thead>\n",
       "    <tr style=\"text-align: right;\">\n",
       "      <th></th>\n",
       "      <th>Name</th>\n",
       "      <th>RAJ20(deg)</th>\n",
       "      <th>DEJ20(deg)</th>\n",
       "      <th>F4_B1(Jy)</th>\n",
       "      <th>qF4_B1</th>\n",
       "      <th>eF4_B1(%)</th>\n",
       "      <th>F8</th>\n",
       "      <th>qF8</th>\n",
       "      <th>eF8(%)</th>\n",
       "      <th>F12</th>\n",
       "      <th>qF12</th>\n",
       "      <th>eF12(%)</th>\n",
       "      <th>F14</th>\n",
       "      <th>qF14</th>\n",
       "      <th>eF14(%)</th>\n",
       "      <th>F21</th>\n",
       "      <th>qF21</th>\n",
       "      <th>eF21(%)</th>\n",
       "    </tr>\n",
       "  </thead>\n",
       "  <tbody>\n",
       "    <tr>\n",
       "      <th>0</th>\n",
       "      <td>G286.8386-02.1157</td>\n",
       "      <td>158.4852</td>\n",
       "      <td>-60.6174</td>\n",
       "      <td>-11.57</td>\n",
       "      <td>0</td>\n",
       "      <td></td>\n",
       "      <td>20.02</td>\n",
       "      <td>4</td>\n",
       "      <td>4.1</td>\n",
       "      <td>22.54</td>\n",
       "      <td>4</td>\n",
       "      <td>5.0</td>\n",
       "      <td>17.73</td>\n",
       "      <td>4</td>\n",
       "      <td>6.1</td>\n",
       "      <td>17.720</td>\n",
       "      <td>4</td>\n",
       "      <td>6.0</td>\n",
       "    </tr>\n",
       "    <tr>\n",
       "      <th>1</th>\n",
       "      <td>G326.2281-02.1979</td>\n",
       "      <td>238.6553</td>\n",
       "      <td>-56.5447</td>\n",
       "      <td>15.95</td>\n",
       "      <td>1</td>\n",
       "      <td>13.1</td>\n",
       "      <td>18.39</td>\n",
       "      <td>4</td>\n",
       "      <td>4.1</td>\n",
       "      <td>17.37</td>\n",
       "      <td>4</td>\n",
       "      <td>5.0</td>\n",
       "      <td>12.43</td>\n",
       "      <td>4</td>\n",
       "      <td>6.1</td>\n",
       "      <td>11.450</td>\n",
       "      <td>4</td>\n",
       "      <td>6.1</td>\n",
       "    </tr>\n",
       "    <tr>\n",
       "      <th>2</th>\n",
       "      <td>G319.0885-02.1148</td>\n",
       "      <td>227.3443</td>\n",
       "      <td>-60.5847</td>\n",
       "      <td>27.92</td>\n",
       "      <td>2</td>\n",
       "      <td>11.2</td>\n",
       "      <td>17.78</td>\n",
       "      <td>4</td>\n",
       "      <td>4.1</td>\n",
       "      <td>23.58</td>\n",
       "      <td>4</td>\n",
       "      <td>5.0</td>\n",
       "      <td>17.09</td>\n",
       "      <td>4</td>\n",
       "      <td>6.1</td>\n",
       "      <td>10.880</td>\n",
       "      <td>4</td>\n",
       "      <td>6.1</td>\n",
       "    </tr>\n",
       "    <tr>\n",
       "      <th>3</th>\n",
       "      <td>G005.4484-02.0026</td>\n",
       "      <td>271.4327</td>\n",
       "      <td>-25.2398</td>\n",
       "      <td>22.57</td>\n",
       "      <td>1</td>\n",
       "      <td>12.3</td>\n",
       "      <td>16.67</td>\n",
       "      <td>4</td>\n",
       "      <td>4.1</td>\n",
       "      <td>19.36</td>\n",
       "      <td>4</td>\n",
       "      <td>5.0</td>\n",
       "      <td>14.77</td>\n",
       "      <td>4</td>\n",
       "      <td>6.1</td>\n",
       "      <td>10.580</td>\n",
       "      <td>4</td>\n",
       "      <td>6.1</td>\n",
       "    </tr>\n",
       "    <tr>\n",
       "      <th>4</th>\n",
       "      <td>G313.6091-02.2572</td>\n",
       "      <td>217.0207</td>\n",
       "      <td>-63.1080</td>\n",
       "      <td>24.18</td>\n",
       "      <td>1</td>\n",
       "      <td>11.1</td>\n",
       "      <td>18.46</td>\n",
       "      <td>4</td>\n",
       "      <td>4.1</td>\n",
       "      <td>17.27</td>\n",
       "      <td>4</td>\n",
       "      <td>5.0</td>\n",
       "      <td>11.75</td>\n",
       "      <td>4</td>\n",
       "      <td>6.1</td>\n",
       "      <td>7.952</td>\n",
       "      <td>4</td>\n",
       "      <td>6.1</td>\n",
       "    </tr>\n",
       "  </tbody>\n",
       "</table>\n",
       "</div>"
      ],
      "text/plain": [
       "                Name  RAJ20(deg)  DEJ20(deg)  F4_B1(Jy)  qF4_B1 eF4_B1(%)  \\\n",
       "0  G286.8386-02.1157    158.4852    -60.6174     -11.57       0             \n",
       "1  G326.2281-02.1979    238.6553    -56.5447      15.95       1      13.1   \n",
       "2  G319.0885-02.1148    227.3443    -60.5847      27.92       2      11.2   \n",
       "3  G005.4484-02.0026    271.4327    -25.2398      22.57       1      12.3   \n",
       "4  G313.6091-02.2572    217.0207    -63.1080      24.18       1      11.1   \n",
       "\n",
       "      F8  qF8  eF8(%)    F12  qF12 eF12(%)    F14  qF14  eF14(%)     F21  \\\n",
       "0  20.02    4     4.1  22.54     4     5.0  17.73     4      6.1  17.720   \n",
       "1  18.39    4     4.1  17.37     4     5.0  12.43     4      6.1  11.450   \n",
       "2  17.78    4     4.1  23.58     4     5.0  17.09     4      6.1  10.880   \n",
       "3  16.67    4     4.1  19.36     4     5.0  14.77     4      6.1  10.580   \n",
       "4  18.46    4     4.1  17.27     4     5.0  11.75     4      6.1   7.952   \n",
       "\n",
       "   qF21  eF21(%)  \n",
       "0     4      6.0  \n",
       "1     4      6.1  \n",
       "2     4      6.1  \n",
       "3     4      6.1  \n",
       "4     4      6.1  "
      ]
     },
     "execution_count": 7,
     "metadata": {},
     "output_type": "execute_result"
    }
   ],
   "source": [
    "df6.head()"
   ]
  },
  {
   "cell_type": "code",
   "execution_count": 14,
   "metadata": {},
   "outputs": [],
   "source": [
    "dfhiq=dfr[np.in1d(dfr['MSX Name'],df6['Name'][np.in1d(df6['Name'],dfr['MSX Name'])])]"
   ]
  },
  {
   "cell_type": "code",
   "execution_count": 15,
   "metadata": {},
   "outputs": [
    {
     "data": {
      "text/plain": [
       "3806"
      ]
     },
     "execution_count": 15,
     "metadata": {},
     "output_type": "execute_result"
    }
   ],
   "source": [
    "len(dfhiq)"
   ]
  },
  {
   "cell_type": "code",
   "execution_count": 13,
   "metadata": {},
   "outputs": [],
   "source": [
    "dfhiq.to_csv(\"DATA/rms_high_qf.csv\")"
   ]
  },
  {
   "cell_type": "code",
   "execution_count": null,
   "metadata": {},
   "outputs": [],
   "source": []
  }
 ],
 "metadata": {
  "kernelspec": {
   "display_name": "Python3RADA",
   "language": "python",
   "name": "pyrada"
  },
  "language_info": {
   "codemirror_mode": {
    "name": "ipython",
    "version": 3
   },
   "file_extension": ".py",
   "mimetype": "text/x-python",
   "name": "python",
   "nbconvert_exporter": "python",
   "pygments_lexer": "ipython3",
   "version": "3.5.6"
  }
 },
 "nbformat": 4,
 "nbformat_minor": 2
}
